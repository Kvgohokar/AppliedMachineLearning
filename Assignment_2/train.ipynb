{
 "cells": [
  {
   "cell_type": "markdown",
   "metadata": {},
   "source": [
    "# Assignment 2: Experiment Tracking\n",
    "\n",
    "## 2. Model Version Control and Experiment Tracking\n",
    "\n",
    "### Track Experiments and Model Versions using MLflow\n",
    "\n",
    "In `train.ipynb`, track the experiments and model versions using **MLflow**:\n",
    "\n",
    "1. **Build, track, and register 3 benchmark models** using MLflow.\n",
    "2. Checkout and print the model selection metric **AUCPR** for each of the three benchmark models.\n",
    "\n",
    "#### References for ML Experiment Tracking\n",
    "\n",
    "- [MLflow Tracking Documentation](https://mlflow.org/docs/latest/tracking.html)\n",
    "- [MLflow Quickstart Guide](https://mlflow.org/docs/latest/getting-started/intro-quickstart/index.html)\n",
    "- [Tracking ML Experiments with MLflow](https://www.datarevenue.com/en-blog/how-we-track-machine-learning-experiments-with-mlflow)\n",
    "- [Experiment Tracking with MLflow](https://towardsdatascience.com/experiment-tracking-with-mlflow-in-10-minutes-f7c2128b8f2c)\n",
    "- [MadeWithML - Experiment Tracking](https://madewithml.com/courses/mlops/experiment-tracking/)"
   ]
  },
  {
   "cell_type": "code",
   "execution_count": 76,
   "metadata": {},
   "outputs": [],
   "source": [
    "import pandas as pd\n",
    "import numpy as np\n",
    "import matplotlib.pyplot as plt\n",
    "from sklearn.naive_bayes import MultinomialNB\n",
    "from sklearn.ensemble import RandomForestClassifier\n",
    "from sklearn.metrics import accuracy_score, classification_report, roc_auc_score,roc_curve, auc\n",
    "from sklearn.model_selection import GridSearchCV\n",
    "from sklearn.linear_model import LogisticRegression\n",
    "from sklearn.svm import SVC\n",
    "from sklearn.ensemble import RandomForestClassifier\n",
    "from sklearn.model_selection import GridSearchCV\n",
    "from sklearn.feature_extraction.text import TfidfVectorizer\n",
    "from scipy import sparse\n",
    "import warnings\n",
    "warnings.filterwarnings('ignore')"
   ]
  },
  {
   "cell_type": "code",
   "execution_count": 77,
   "metadata": {},
   "outputs": [],
   "source": [
    "train_data = pd.read_csv(\"./train.csv\")\n",
    "val_data = pd.read_csv(\"./val.csv\")\n",
    "test_data = pd.read_csv(\"./test.csv\")"
   ]
  },
  {
   "cell_type": "code",
   "execution_count": 78,
   "metadata": {},
   "outputs": [
    {
     "name": "stdout",
     "output_type": "stream",
     "text": [
      "message    3\n",
      "label      0\n",
      "dtype: int64 message    3\n",
      "label      0\n",
      "dtype: int64 message    0\n",
      "label      0\n",
      "dtype: int64\n"
     ]
    }
   ],
   "source": [
    "print(train_data.isnull().sum(), val_data.isnull().sum(), test_data.isnull().sum())"
   ]
  },
  {
   "cell_type": "code",
   "execution_count": 79,
   "metadata": {},
   "outputs": [],
   "source": [
    "# Drop rows with NaNs in any column\n",
    "train_data = train_data.dropna()\n",
    "val_data = val_data.dropna()\n",
    "test_data = test_data.dropna()\n",
    "\n",
    "X_train, y_train = train_data.drop(columns=\"label\"), train_data[\"label\"].values\n",
    "X_val, y_val = val_data.drop(columns=\"label\"), val_data[\"label\"].values\n",
    "X_test, y_test = test_data.drop(columns=\"label\"), test_data[\"label\"].values"
   ]
  },
  {
   "cell_type": "markdown",
   "metadata": {},
   "source": [
    "### vectorize data"
   ]
  },
  {
   "cell_type": "code",
   "execution_count": 80,
   "metadata": {},
   "outputs": [],
   "source": [
    "vectorizer = TfidfVectorizer(stop_words='english')\n",
    "\n",
    "# Fit and transform the training data\n",
    "X_train = vectorizer.fit_transform(X_train['message'])\n",
    "\n",
    "# Transform the validation and test data\n",
    "X_val = vectorizer.transform(X_val['message'])\n",
    "X_test = vectorizer.transform(X_test['message'])"
   ]
  },
  {
   "cell_type": "markdown",
   "metadata": {},
   "source": [
    "### Logistic Regression"
   ]
  },
  {
   "cell_type": "code",
   "execution_count": 81,
   "metadata": {},
   "outputs": [
    {
     "name": "stdout",
     "output_type": "stream",
     "text": [
      "\n",
      "Best Logistic Regression Params: {'C': 10, 'penalty': 'l2'}\n",
      "Validation Accuracy (Logistic Regression): 0.9865\n",
      "\n",
      "Logistic Regression Classification Report:\n",
      "              precision    recall  f1-score   support\n",
      "\n",
      "           0       0.98      0.99      0.99       966\n",
      "           1       0.96      0.87      0.91       149\n",
      "\n",
      "    accuracy                           0.98      1115\n",
      "   macro avg       0.97      0.93      0.95      1115\n",
      "weighted avg       0.98      0.98      0.98      1115\n",
      "\n",
      "AUC ROC Score (Logistic Regression): 0.9828\n"
     ]
    }
   ],
   "source": [
    "# Logistic Regression\n",
    "lr_model = LogisticRegression()\n",
    "lr_param_grid = {\n",
    "    'C': [0.01, 0.1, 1, 10],\n",
    "    'penalty': ['l1', 'l2']\n",
    "}\n",
    "\n",
    "# Hyperparameter tuning with GridSearchCV   \n",
    "lr_search = GridSearchCV(lr_model, lr_param_grid, cv=5, scoring='accuracy', n_jobs=-1)\n",
    "lr_search.fit(X_train, y_train)\n",
    "best_lr_model = lr_search.best_estimator_\n",
    "print(f\"\\nBest Logistic Regression Params: {lr_search.best_params_}\")\n",
    "print(f\"Validation Accuracy (Logistic Regression): {accuracy_score(y_val, best_lr_model.predict(X_val)):.4f}\")\n",
    "\n",
    "# Classification report \n",
    "y_test_pred_lr = best_lr_model.predict(X_test)\n",
    "print(\"\\nLogistic Regression Classification Report:\")\n",
    "print(classification_report(y_test, y_test_pred_lr))\n",
    "\n",
    "# AUC ROC score \n",
    "y_test_prob_lr = best_lr_model.predict_proba(X_test)[:, 1]\n",
    "roc_auc_lr = roc_auc_score(y_test, y_test_prob_lr, multi_class='ovr')\n",
    "print(f\"AUC ROC Score (Logistic Regression): {roc_auc_lr:.4f}\")"
   ]
  },
  {
   "cell_type": "markdown",
   "metadata": {},
   "source": [
    "### Support Vector Classifer (SVC)"
   ]
  },
  {
   "cell_type": "code",
   "execution_count": 82,
   "metadata": {},
   "outputs": [
    {
     "name": "stdout",
     "output_type": "stream",
     "text": [
      "\n",
      "Best SVC Params: {'C': 1, 'gamma': 'scale', 'kernel': 'linear'}\n",
      "Validation Accuracy (SVC): 0.9842\n",
      "\n",
      "SVC Classification Report:\n",
      "              precision    recall  f1-score   support\n",
      "\n",
      "           0       0.98      0.99      0.99       966\n",
      "           1       0.96      0.89      0.92       149\n",
      "\n",
      "    accuracy                           0.98      1115\n",
      "   macro avg       0.97      0.94      0.96      1115\n",
      "weighted avg       0.98      0.98      0.98      1115\n",
      "\n",
      "AUC ROC Score (SVC): 0.9810\n"
     ]
    }
   ],
   "source": [
    "svc_model = SVC(probability=True)\n",
    "svc_param_grid = {\n",
    "    'C': [0.1, 1, 10],\n",
    "    'kernel': ['linear', 'rbf'],\n",
    "    'gamma': ['scale', 'auto']\n",
    "}\n",
    "\n",
    "# Hyperparameter tuning with GridSearchCV\n",
    "svc_search = GridSearchCV(svc_model, svc_param_grid, cv=5, scoring='accuracy', n_jobs=-1)\n",
    "svc_search.fit(X_train, y_train)\n",
    "best_svc_model = svc_search.best_estimator_\n",
    "print(f\"\\nBest SVC Params: {svc_search.best_params_}\")\n",
    "print(f\"Validation Accuracy (SVC): {accuracy_score(y_val, best_svc_model.predict(X_val)):.4f}\")\n",
    "\n",
    "# Classification report\n",
    "y_test_pred_svc = best_svc_model.predict(X_test)\n",
    "print(\"\\nSVC Classification Report:\")\n",
    "print(classification_report(y_test, y_test_pred_svc))\n",
    "\n",
    "# AUC ROC score for SVC\n",
    "y_test_prob_svc = best_svc_model.predict_proba(X_test)[:, 1]\n",
    "roc_auc_svc = roc_auc_score(y_test, y_test_prob_svc)\n",
    "print(f\"AUC ROC Score (SVC): {roc_auc_svc:.4f}\")\n"
   ]
  },
  {
   "cell_type": "markdown",
   "metadata": {},
   "source": [
    "### Random Forest"
   ]
  },
  {
   "cell_type": "code",
   "execution_count": 83,
   "metadata": {},
   "outputs": [
    {
     "name": "stdout",
     "output_type": "stream",
     "text": [
      "\n",
      "Best Random Forest Params: {'max_depth': None, 'min_samples_split': 10, 'n_estimators': 100}\n",
      "Validation Accuracy (Random Forest): 0.9797\n",
      "\n",
      "Random Forest Classification Report:\n",
      "              precision    recall  f1-score   support\n",
      "\n",
      "           0       0.97      1.00      0.98       966\n",
      "           1       0.97      0.83      0.89       149\n",
      "\n",
      "    accuracy                           0.97      1115\n",
      "   macro avg       0.97      0.91      0.94      1115\n",
      "weighted avg       0.97      0.97      0.97      1115\n",
      "\n",
      "AUC ROC Score (Random Forest): 0.9826\n"
     ]
    }
   ],
   "source": [
    "# Random Forest\n",
    "rf_model = RandomForestClassifier(random_state=42)\n",
    "rf_param_grid = {\n",
    "    'n_estimators': [100, 200, 300],\n",
    "    'max_depth': [10, 20, None],\n",
    "    'min_samples_split': [2, 5, 10]\n",
    "}\n",
    "\n",
    "# Hyperparameter tuning with GridSearchCV\n",
    "rf_search = GridSearchCV(rf_model, rf_param_grid, cv=5, scoring='accuracy', n_jobs=-1)\n",
    "rf_search.fit(X_train, y_train)\n",
    "best_rf_model = rf_search.best_estimator_\n",
    "print(f\"\\nBest Random Forest Params: {rf_search.best_params_}\")\n",
    "print(f\"Validation Accuracy (Random Forest): {accuracy_score(y_val, best_rf_model.predict(X_val)):.4f}\")\n",
    "\n",
    "# Classification report\n",
    "y_test_pred_rf = best_rf_model.predict(X_test)\n",
    "print(\"\\nRandom Forest Classification Report:\")\n",
    "print(classification_report(y_test, y_test_pred_rf))\n",
    "\n",
    "# AUC ROC score\n",
    "y_test_prob_rf = best_rf_model.predict_proba(X_test)[:, 1]\n",
    "roc_auc_rf = roc_auc_score(y_test, y_test_prob_rf, multi_class='ovr')\n",
    "print(f\"AUC ROC Score (Random Forest): {roc_auc_rf:.4f}\")\n"
   ]
  },
  {
   "cell_type": "markdown",
   "metadata": {},
   "source": [
    "### Naive Bayes"
   ]
  },
  {
   "cell_type": "code",
   "execution_count": 84,
   "metadata": {},
   "outputs": [
    {
     "name": "stdout",
     "output_type": "stream",
     "text": [
      "\n",
      "Best Naive Bayes Params: {'alpha': 0.5}\n",
      "Validation Accuracy (Naive Bayes): 0.9752\n",
      "\n",
      "Naive Bayes Classification Report:\n",
      "              precision    recall  f1-score   support\n",
      "\n",
      "           0       0.97      1.00      0.99       966\n",
      "           1       0.99      0.82      0.90       149\n",
      "\n",
      "    accuracy                           0.97      1115\n",
      "   macro avg       0.98      0.91      0.94      1115\n",
      "weighted avg       0.98      0.97      0.97      1115\n",
      "\n",
      "AUC ROC Score (Naive Bayes): 0.9820\n"
     ]
    }
   ],
   "source": [
    "# Naive Bayes\n",
    "nb_model = MultinomialNB()\n",
    "nb_param_grid = {'alpha': [0.1, 0.5, 1.0]}\n",
    "\n",
    "# Hyperparameter tuning with GridSearchCV\n",
    "nb_search = GridSearchCV(nb_model, nb_param_grid, cv=5, scoring='accuracy', n_jobs=-1)\n",
    "\n",
    "nb_search.fit(X_train, y_train)\n",
    "best_nb_model = nb_search.best_estimator_\n",
    "print(f\"\\nBest Naive Bayes Params: {nb_search.best_params_}\")\n",
    "print(f\"Validation Accuracy (Naive Bayes): {accuracy_score(y_val, best_nb_model.predict(X_val)):.4f}\")\n",
    "\n",
    "# Classification report\n",
    "y_test_pred_nb = best_nb_model.predict(X_test)\n",
    "print(\"\\nNaive Bayes Classification Report:\")\n",
    "print(classification_report(y_test, y_test_pred_nb))\n",
    "\n",
    "# AUC ROC score\n",
    "y_test_prob_nb = best_nb_model.predict_proba(X_test)[:, 1] \n",
    "roc_auc_nb = roc_auc_score(y_test, y_test_prob_nb)\n",
    "print(f\"AUC ROC Score (Naive Bayes): {roc_auc_nb:.4f}\")"
   ]
  },
  {
   "cell_type": "markdown",
   "metadata": {},
   "source": [
    "### Comparing models"
   ]
  },
  {
   "cell_type": "code",
   "execution_count": 85,
   "metadata": {},
   "outputs": [
    {
     "data": {
      "image/png": "[encoded data removed]",
      "text/plain": [
       "<Figure size 800x600 with 1 Axes>"
      ]
     },
     "metadata": {},
     "output_type": "display_data"
    }
   ],
   "source": [
    "model_auc_scores = {}\n",
    "\n",
    "models = {\n",
    "    \"Naive Bayes\": best_nb_model,\n",
    "    \"Random Forest\": best_rf_model,\n",
    "    \"Logistic Regression\": best_lr_model,\n",
    "    \"SVC\": best_svc_model\n",
    "}\n",
    "\n",
    "plt.figure(figsize=(8, 6))\n",
    "\n",
    "for model_name, model in models.items():\n",
    "    y_test_prob = model.predict_proba(X_test)[:, 1]\n",
    "    fpr, tpr, _ = roc_curve(y_test, y_test_prob)\n",
    "    roc_auc = auc(fpr, tpr)\n",
    "    model_auc_scores[model_name] = roc_auc\n",
    "    plt.plot(fpr, tpr, label=f'{model_name} (AUC = {roc_auc:.4f})')\n",
    "\n",
    "plt.plot([0, 1], [0, 1], color='gray', linestyle='--', lw=2)\n",
    "\n",
    "plt.title('ROC Curve Comparison')\n",
    "plt.xlabel('False Positive Rate')\n",
    "plt.ylabel('True Positive Rate')\n",
    "plt.legend(loc='lower right')\n",
    "plt.grid(True)\n",
    "\n",
    "plt.show()"
   ]
  },
  {
   "cell_type": "code",
   "execution_count": 86,
   "metadata": {},
   "outputs": [
    {
     "name": "stdout",
     "output_type": "stream",
     "text": [
      "\n",
      "Ranked Models by AUC ROC Score:\n",
      "1. Logistic Regression: 0.9828\n",
      "2. Random Forest: 0.9826\n",
      "3. Naive Bayes: 0.9820\n",
      "4. SVC: 0.9810\n"
     ]
    }
   ],
   "source": [
    "sorted_models = sorted(model_auc_scores.items(), key=lambda x: x[1], reverse=True)\n",
    "\n",
    "print(\"\\nRanked Models by AUC ROC Score:\")\n",
    "for rank, (model_name, auc_score) in enumerate(sorted_models, start=1):\n",
    "    print(f\"{rank}. {model_name}: {auc_score:.4f}\")"
   ]
  }
 ],
 "metadata": {
  "kernelspec": {
   "display_name": "pytorch_env",
   "language": "python",
   "name": "python3"
  },
  "language_info": {
   "codemirror_mode": {
    "name": "ipython",
    "version": 3
   },
   "file_extension": ".py",
   "mimetype": "text/x-python",
   "name": "python",
   "nbconvert_exporter": "python",
   "pygments_lexer": "ipython3",
   "version": "3.9.21"
  }
 },
 "nbformat": 4,
 "nbformat_minor": 2
}
