{
 "cells": [
  {
   "cell_type": "markdown",
   "metadata": {},
   "source": [
    "# Assignment 2: Experiment Tracking\n",
    "\n",
    "## 1. Data Version Control\n",
    "\n",
    "### Track Data Versions using DVC\n",
    "\n",
    "In `prepare.ipynb`, track the versions of data using **DVC**:\n",
    "\n",
    "1. Load the raw data into `raw_data.csv`.\n",
    "2. Split the data and save it into `train.csv`, `validation.csv`, and `test.csv`.\n",
    "3. Update the train/validation/test split by choosing a different random seed.\n",
    "4. Checkout the first version (before the update) using DVC and print the distribution of the target variable (number of 0s and number of 1s) in:\n",
    "   - `train.csv`\n",
    "   - `validation.csv`\n",
    "   - `test.csv`\n",
    "5. Checkout the updated version using DVC and print the distribution of the target variable in:\n",
    "   - `train.csv`\n",
    "   - `validation.csv`\n",
    "   - `test.csv`\n",
    "\n",
    "### Bonus\n",
    "\n",
    "- **Decouple Compute and Storage**: Track the data versions using **Google Drive** as storage.\n",
    "\n",
    "#### References for Data Version Control\n",
    "\n",
    "- [DVC Documentation](https://dvc.org/doc/start/data-management/data-versioning)\n",
    "- [Real Python: Data Version Control](https://realpython.com/python-data-version-control/)\n",
    "- [Managing Google Drive with Python](https://towardsdatascience.com/how-to-manage-files-in-google-drive-with-python-d26471d91ecd)\n",
    "- [MadeWithML - Versioning](https://madewithml.com/courses/mlops/versioning/)\n",
    "\n",
    "---"
   ]
  },
  {
   "cell_type": "code",
   "execution_count": 1,
   "metadata": {},
   "outputs": [],
   "source": [
    "import pandas as pd\n",
    "import numpy as np\n",
    "import matplotlib.pyplot as plt\n",
    "import csv\n",
    "import re\n",
    "import string\n",
    "from sklearn.model_selection import train_test_split\n",
    "from nltk.corpus import stopwords\n",
    "from nltk.stem import PorterStemmer\n",
    "from nltk.tokenize import word_tokenize\n",
    "from nltk.stem import WordNetLemmatizer\n",
    "import nltk\n",
    "import os\n",
    "\n",
    "random_state=24"
   ]
  },
  {
   "cell_type": "markdown",
   "metadata": {},
   "source": [
    "#### Set up DVC storage"
   ]
  },
  {
   "cell_type": "code",
   "execution_count": null,
   "metadata": {},
   "outputs": [
    {
     "name": "stdout",
     "output_type": "stream",
     "text": [
      "Initialized DVC repository.\n",
      "\n",
      "You can now commit the changes to git.\n",
      "\n",
      "\u001b[31m+---------------------------------------------------------------------+\n",
      "\u001b[0m\u001b[31m|\u001b[0m                                                                     \u001b[31m|\u001b[0m\n",
      "\u001b[31m|\u001b[0m        DVC has enabled anonymous aggregate usage analytics.         \u001b[31m|\u001b[0m\n",
      "\u001b[31m|\u001b[0m     Read the analytics documentation (and how to opt-out) here:     \u001b[31m|\u001b[0m\n",
      "\u001b[31m|\u001b[0m             <\u001b[36mhttps://dvc.org/doc/user-guide/analytics\u001b[39m>              \u001b[31m|\u001b[0m\n",
      "\u001b[31m|\u001b[0m                                                                     \u001b[31m|\u001b[0m\n",
      "\u001b[31m+---------------------------------------------------------------------+\n",
      "\u001b[0m\n",
      "\u001b[33mWhat's next?\u001b[39m\n",
      "\u001b[33m------------\u001b[39m\n",
      "- Check out the documentation: <\u001b[36mhttps://dvc.org/doc\u001b[39m>\n",
      "- Get help and share ideas: <\u001b[36mhttps://dvc.org/chat\u001b[39m>\n",
      "- Star us on GitHub: <\u001b[36mhttps://github.com/iterative/dvc\u001b[39m>\n",
      "\u001b[0m"
     ]
    }
   ],
   "source": [
    "# !dvc init"
   ]
  },
  {
   "cell_type": "code",
   "execution_count": 6,
   "metadata": {},
   "outputs": [
    {
     "name": "stdout",
     "output_type": "stream",
     "text": [
      "Setting 'gdrive_remote' as a default remote.\n",
      "\u001b[0m"
     ]
    }
   ],
   "source": [
    "!dvc remote add -d gdrive_remote gdrive://1g-40__aCwQ_38Afqz_sOsD_OpKcvENfr"
   ]
  },
  {
   "cell_type": "code",
   "execution_count": 7,
   "metadata": {},
   "outputs": [
    {
     "name": "stdout",
     "output_type": "stream",
     "text": [
      "\u001b[0m\u001b[0m"
     ]
    }
   ],
   "source": [
    "!dvc remote modify gdrive_remote gdrive_use_service_account true\n",
    "!dvc remote modify gdrive_remote --local \\\n",
    "            gdrive_service_account_json_file_path dvc-storage-451816-cc381df40019.json"
   ]
  },
  {
   "cell_type": "markdown",
   "metadata": {},
   "source": [
    "#### 1. Load the data."
   ]
  },
  {
   "cell_type": "code",
   "execution_count": 4,
   "metadata": {},
   "outputs": [],
   "source": [
    "# 1. Load the data\n",
    "raw_messages = pd.read_csv('/Users/kalyani/Documents/CMI/Sem 4/AML/Assignment 1/sms+spam+collection/SMSSpamCollection', sep='\\t', quoting=csv.QUOTE_NONE,names=[\"label\", \"message\"])"
   ]
  },
  {
   "cell_type": "code",
   "execution_count": 5,
   "metadata": {},
   "outputs": [
    {
     "data": {
      "text/html": [
       "<div>\n",
       "<style scoped>\n",
       "    .dataframe tbody tr th:only-of-type {\n",
       "        vertical-align: middle;\n",
       "    }\n",
       "\n",
       "    .dataframe tbody tr th {\n",
       "        vertical-align: top;\n",
       "    }\n",
       "\n",
       "    .dataframe thead th {\n",
       "        text-align: right;\n",
       "    }\n",
       "</style>\n",
       "<table border=\"1\" class=\"dataframe\">\n",
       "  <thead>\n",
       "    <tr style=\"text-align: right;\">\n",
       "      <th></th>\n",
       "      <th>label</th>\n",
       "      <th>message</th>\n",
       "    </tr>\n",
       "  </thead>\n",
       "  <tbody>\n",
       "    <tr>\n",
       "      <th>0</th>\n",
       "      <td>ham</td>\n",
       "      <td>Go until jurong point, crazy.. Available only ...</td>\n",
       "    </tr>\n",
       "    <tr>\n",
       "      <th>1</th>\n",
       "      <td>ham</td>\n",
       "      <td>Ok lar... Joking wif u oni...</td>\n",
       "    </tr>\n",
       "    <tr>\n",
       "      <th>2</th>\n",
       "      <td>spam</td>\n",
       "      <td>Free entry in 2 a wkly comp to win FA Cup fina...</td>\n",
       "    </tr>\n",
       "    <tr>\n",
       "      <th>3</th>\n",
       "      <td>ham</td>\n",
       "      <td>U dun say so early hor... U c already then say...</td>\n",
       "    </tr>\n",
       "    <tr>\n",
       "      <th>4</th>\n",
       "      <td>ham</td>\n",
       "      <td>Nah I don't think he goes to usf, he lives aro...</td>\n",
       "    </tr>\n",
       "  </tbody>\n",
       "</table>\n",
       "</div>"
      ],
      "text/plain": [
       "  label                                            message\n",
       "0   ham  Go until jurong point, crazy.. Available only ...\n",
       "1   ham                      Ok lar... Joking wif u oni...\n",
       "2  spam  Free entry in 2 a wkly comp to win FA Cup fina...\n",
       "3   ham  U dun say so early hor... U c already then say...\n",
       "4   ham  Nah I don't think he goes to usf, he lives aro..."
      ]
     },
     "execution_count": 5,
     "metadata": {},
     "output_type": "execute_result"
    }
   ],
   "source": [
    "raw_messages.head()"
   ]
  },
  {
   "cell_type": "code",
   "execution_count": 8,
   "metadata": {},
   "outputs": [
    {
     "name": "stdout",
     "output_type": "stream",
     "text": [
      "\u001b[?25l\u001b[32m⠋\u001b[0m Checking graph                                       core\u001b[39m>\n",
      "Adding...                                                                       \n",
      "!\u001b[A\n",
      "Collecting files and computing hashes in raw_data.csv |0.00 [00:00,     ?file/s]\u001b[A\n",
      "                                                                                \u001b[A\n",
      "!\u001b[A\n",
      "  0% Checking cache in '/Users/kalyani/Documents/CMI/Sem 4/AML/Assignment_2/.dvc\u001b[A\n",
      "                                                                                \u001b[A\n",
      "!\u001b[A\n",
      "  0%|          |Adding raw_data.csv to cache          0/1 [00:00<?,     ?file/s]\u001b[A\n",
      "                                                                                \u001b[A\n",
      "!\u001b[A\n",
      "  0%|          |Checking out /Users/kalyani/Documents/0/1 [00:00<?,    ?files/s]\u001b[A\n",
      "100% Adding...|███████████████████████████████████████|1/1 [00:00, 109.94file/s]\u001b[A\n",
      "\n",
      "To track the changes with git, run:\n",
      "\n",
      "\tgit add raw_data.csv.dvc\n",
      "\n",
      "To enable auto staging, run:\n",
      "\n",
      "\tdvc config core.autostage true\n",
      "\u001b[0m\u001b[31mHEAD detached at \u001b[me41bac6\n",
      "Changes not staged for commit:\n",
      "  (use \"git add <file>...\" to update what will be committed)\n",
      "  (use \"git restore <file>...\" to discard changes in working directory)\n",
      "\t\u001b[31mmodified:   .dvc/config\u001b[m\n",
      "\t\u001b[31mmodified:   .gitignore\u001b[m\n",
      "\n",
      "Untracked files:\n",
      "  (use \"git add <file>...\" to include in what will be committed)\n",
      "\t\u001b[31m.gitkeep\u001b[m\n",
      "\t\u001b[31mdvc-storage-451816-cc381df40019.json\u001b[m\n",
      "\t\u001b[31mprepare copy.ipynb\u001b[m\n",
      "\t\u001b[31mprepare.ipynb\u001b[m\n",
      "\t\u001b[31mtrain.ipynb\u001b[m\n",
      "\t\u001b[31mval.csv\u001b[m\n",
      "\n",
      "no changes added to commit (use \"git add\" and/or \"git commit -a\")\n",
      "Collecting                                           |4.00 [00:00, 1.91kentry/s]\n",
      "Pushing\n",
      "!\u001b[A\n",
      "  0% Checking cache in '1g-40__aCwQ_38Afqz_sOsD_OpKcvENfr/files/md5'| |0/? [00:0\u001b[A\n",
      "                                                                                \u001b[A\n",
      "!\u001b[A\n",
      "  0% Checking cache in '/Users/kalyani/Documents/CMI/Sem 4/AML/Assignment_2/.dvc\u001b[A\n",
      "\u001b[33mWARNING\u001b[39m: Some of the cache files do not exist neither locally nor on remote. Missing cache files:\n",
      "md5: 9161a1517e6e0776177ab0b81e5974c8\n",
      "md5: 28459fef7db29d013a0323379e2bd567\n",
      "md5: c8009559b3eb7e32f66596c6acc7b6ff\n",
      "Pushing\n",
      "!\u001b[A\n",
      "  0%|          |Pushing to gdrive                     0/1 [00:00<?,     ?file/s]\u001b[A\n",
      "  0%|          |Pushing to gdrive                     0/1 [00:00<?,     ?file/s]\u001b[A\n",
      "\n",
      "!\u001b[A\u001b[A\n",
      "\n",
      "  0%|          |/Users/kalyani/Documents/CMI/Sem0.00/470k [00:00<?,        ?B/s]\u001b[A\u001b[A\n",
      "\n",
      "  2%|▏         |/Users/kalyani/Documents/CM8.00k/470k [00:05<05:03,    1.56kB/s]\u001b[A\u001b[A\n",
      "\n",
      "                                                                                \u001b[A\u001b[A\n",
      "100%|██████████|Pushing to gdrive                 1/1 [00:07<00:00,  7.13s/file]\u001b[A\n",
      "Pushing                                                                         \u001b[A\n",
      "1 file pushed\n",
      "\u001b[0m"
     ]
    }
   ],
   "source": [
    "# Save the raw data\n",
    "raw_messages.to_csv(\"raw_data.csv\", index=False)\n",
    "\n",
    "# Track the raw data using DVC\n",
    "!dvc add raw_data.csv\n",
    "!git add raw_data.csv.dvc\n",
    "!git commit -m \"Added raw data\"\n",
    "!dvc push"
   ]
  },
  {
   "cell_type": "markdown",
   "metadata": {},
   "source": [
    "####  2. Preprocess the data"
   ]
  },
  {
   "cell_type": "code",
   "execution_count": 9,
   "metadata": {},
   "outputs": [],
   "source": [
    "# Define stop words and stemmer\n",
    "stop_words = set(stopwords.words('english'))\n",
    "lemmatizer = WordNetLemmatizer()"
   ]
  },
  {
   "cell_type": "code",
   "execution_count": 10,
   "metadata": {},
   "outputs": [],
   "source": [
    "def preprocess_text(text):\n",
    "    \"\"\"\n",
    "    Clean and preprocess a single text message.\n",
    "    \"\"\"\n",
    "    text = text.lower() # Convert to lowercase\n",
    "    text = re.sub(r'\\d+', '', text)  # Remove numbers\n",
    "    text = text.translate(str.maketrans('', '', string.punctuation)) # Remove punctuation\n",
    "    tokens = word_tokenize(text) # Tokenize words\n",
    "    # Remove stopwords and lemmatize\n",
    "    tokens = [lemmatizer.lemmatize(word) for word in tokens if word not in stop_words]\n",
    "    return ' '.join(tokens)\n",
    "\n",
    "def preprocess_data(data):\n",
    "    \"\"\"\n",
    "    Preprocess the entire dataset.\n",
    "    \"\"\"\n",
    "    data['message'] = data['message'].apply(preprocess_text)\n",
    "    # Encode labels: spam -> 1, ham -> 0\n",
    "    data['label'] = data['label'].map({'spam': 1, 'ham': 0})\n",
    "    return data"
   ]
  },
  {
   "cell_type": "code",
   "execution_count": 11,
   "metadata": {},
   "outputs": [
    {
     "data": {
      "text/html": [
       "<div>\n",
       "<style scoped>\n",
       "    .dataframe tbody tr th:only-of-type {\n",
       "        vertical-align: middle;\n",
       "    }\n",
       "\n",
       "    .dataframe tbody tr th {\n",
       "        vertical-align: top;\n",
       "    }\n",
       "\n",
       "    .dataframe thead th {\n",
       "        text-align: right;\n",
       "    }\n",
       "</style>\n",
       "<table border=\"1\" class=\"dataframe\">\n",
       "  <thead>\n",
       "    <tr style=\"text-align: right;\">\n",
       "      <th></th>\n",
       "      <th>label</th>\n",
       "      <th>message</th>\n",
       "    </tr>\n",
       "  </thead>\n",
       "  <tbody>\n",
       "    <tr>\n",
       "      <th>0</th>\n",
       "      <td>0</td>\n",
       "      <td>go jurong point crazy available bugis n great ...</td>\n",
       "    </tr>\n",
       "    <tr>\n",
       "      <th>1</th>\n",
       "      <td>0</td>\n",
       "      <td>ok lar joking wif u oni</td>\n",
       "    </tr>\n",
       "    <tr>\n",
       "      <th>2</th>\n",
       "      <td>1</td>\n",
       "      <td>free entry wkly comp win fa cup final tkts st ...</td>\n",
       "    </tr>\n",
       "    <tr>\n",
       "      <th>3</th>\n",
       "      <td>0</td>\n",
       "      <td>u dun say early hor u c already say</td>\n",
       "    </tr>\n",
       "    <tr>\n",
       "      <th>4</th>\n",
       "      <td>0</td>\n",
       "      <td>nah dont think go usf life around though</td>\n",
       "    </tr>\n",
       "  </tbody>\n",
       "</table>\n",
       "</div>"
      ],
      "text/plain": [
       "   label                                            message\n",
       "0      0  go jurong point crazy available bugis n great ...\n",
       "1      0                            ok lar joking wif u oni\n",
       "2      1  free entry wkly comp win fa cup final tkts st ...\n",
       "3      0                u dun say early hor u c already say\n",
       "4      0           nah dont think go usf life around though"
      ]
     },
     "execution_count": 11,
     "metadata": {},
     "output_type": "execute_result"
    }
   ],
   "source": [
    "data = preprocess_data(raw_messages)\n",
    "data.head()"
   ]
  },
  {
   "cell_type": "code",
   "execution_count": 12,
   "metadata": {},
   "outputs": [],
   "source": [
    "X = data['message']\n",
    "y = data['label']"
   ]
  },
  {
   "cell_type": "markdown",
   "metadata": {},
   "source": [
    "#### 3. Split the data into train/validation/test. "
   ]
  },
  {
   "cell_type": "code",
   "execution_count": 76,
   "metadata": {},
   "outputs": [],
   "source": [
    "def split_and_save_data(X, y, label_column=\"label\", test_size=0.2, val_size=0.1, random_state=24):\n",
    "    \"\"\"\n",
    "    Split the data into train, validation, and test sets, and save them as CSV files.\n",
    "    \"\"\"\n",
    "    #Train-test split\n",
    "    X_train, X_test, y_train, y_test = train_test_split(\n",
    "        X, y, test_size=test_size, random_state=random_state\n",
    "    )\n",
    "    \n",
    "    #Train-validation split\n",
    "    X_train, X_val, y_train, y_val = train_test_split(\n",
    "        X_train, y_train, test_size=val_size, random_state=random_state\n",
    "    )\n",
    "    \n",
    "    train_df = pd.DataFrame(X_train)\n",
    "    train_df['label'] = y_train\n",
    "\n",
    "    test_df = pd.DataFrame(X_test)\n",
    "    test_df['label'] = y_test\n",
    "\n",
    "    val_df = pd.DataFrame(X_val)\n",
    "    val_df['label'] = y_val\n",
    "\n",
    "    train_df.to_csv(f\"./train.csv\", index=False)\n",
    "    test_df.to_csv(f\"./test.csv\", index=False)\n",
    "    val_df.to_csv(f\"./val.csv\", index=False)\n",
    "\n",
    "    print(\"Data splits saved successfully!\")"
   ]
  },
  {
   "cell_type": "markdown",
   "metadata": {},
   "source": [
    "##### Version 1 of train/validation/test split"
   ]
  },
  {
   "cell_type": "code",
   "execution_count": 77,
   "metadata": {},
   "outputs": [
    {
     "name": "stdout",
     "output_type": "stream",
     "text": [
      "Data splits saved successfully!\n"
     ]
    }
   ],
   "source": [
    "split_and_save_data(X, y, label_column=\"label\", test_size=0.2, val_size=0.1, random_state=24)"
   ]
  },
  {
   "cell_type": "code",
   "execution_count": 78,
   "metadata": {},
   "outputs": [
    {
     "name": "stdout",
     "output_type": "stream",
     "text": [
      "\u001b[?25l\u001b[32m⠋\u001b[0m Checking graph                                       core\u001b[39m>\n",
      "  0% Adding...|                          | train.csv |0/3 [00:00<?,     ?file/s]\n",
      "!\u001b[A\n",
      "Collecting files and computing hashes in train.csv    |0.00 [00:00,     ?file/s]\u001b[A\n",
      "                                                                                \u001b[A\n",
      "!\u001b[A\n",
      "  0% Checking cache in '/Users/kalyani/Documents/CMI/Sem 4/AML/Assignment_2/.dvc\u001b[A\n",
      "                                                                                \u001b[A\n",
      "!\u001b[A\n",
      "  0%|          |Checking out /Users/kalyani/Documents/0/1 [00:00<?,    ?files/s]\u001b[A\n",
      "  0% Adding...|                            | val.csv |0/3 [00:00<?,     ?file/s]\u001b[A\n",
      "!\u001b[A\n",
      "Collecting files and computing hashes in val.csv      |0.00 [00:00,     ?file/s]\u001b[A\n",
      "                                                                                \u001b[A\n",
      "!\u001b[A\n",
      "  0% Checking cache in '/Users/kalyani/Documents/CMI/Sem 4/AML/Assignment_2/.dvc\u001b[A\n",
      "                                                                                \u001b[A\n",
      "!\u001b[A\n",
      "  0%|          |Checking out /Users/kalyani/Documents/0/1 [00:00<?,    ?files/s]\u001b[A\n",
      "  0% Adding...|                           | test.csv |0/3 [00:00<?,     ?file/s]\u001b[A\n",
      "!\u001b[A\n",
      "Collecting files and computing hashes in test.csv     |0.00 [00:00,     ?file/s]\u001b[A\n",
      "                                                                                \u001b[A\n",
      "!\u001b[A\n",
      "  0% Checking cache in '/Users/kalyani/Documents/CMI/Sem 4/AML/Assignment_2/.dvc\u001b[A\n",
      "                                                                                \u001b[A\n",
      "!\u001b[A\n",
      "  0%|          |Checking out /Users/kalyani/Documents/0/1 [00:00<?,    ?files/s]\u001b[A\n",
      "100% Adding...|███████████████████████████████████████|3/3 [00:00, 192.10file/s]\u001b[A\n",
      "\n",
      "To track the changes with git, run:\n",
      "\n",
      "\tgit add val.csv.dvc test.csv.dvc train.csv.dvc\n",
      "\n",
      "To enable auto staging, run:\n",
      "\n",
      "\tdvc config core.autostage true\n",
      "\u001b[0m[detached HEAD e870ff4] Version 1 of train/validation/test split\n",
      " 3 files changed, 9 insertions(+), 4 deletions(-)\n",
      " create mode 100644 val.csv.dvc\n",
      "Collecting                                           |5.00 [00:00, 1.75kentry/s]\n",
      "Pushing\n",
      "!\u001b[A\n",
      "  0% Checking cache in '1g-40__aCwQ_38Afqz_sOsD_OpKcvENfr/files/md5'| |0/? [00:0\u001b[A\n",
      "  0% Querying cache in '1g-40__aCwQ_38Afqz_sOsD_OpKcvENfr/files/md5'| |1/256 [00\u001b[A\n",
      "Pushing                                                                         \u001b[A\n",
      "Everything is up to date.\n",
      "\u001b[0m"
     ]
    }
   ],
   "source": [
    "# Track the new version with DVC\n",
    "!dvc add train.csv val.csv test.csv\n",
    "!git add train.csv.dvc val.csv.dvc test.csv.dvc\n",
    "!git commit -m \"Version 1 of train/validation/test split\"\n",
    "!dvc push"
   ]
  },
  {
   "cell_type": "markdown",
   "metadata": {},
   "source": [
    "##### Version 2: changing seed and saving again"
   ]
  },
  {
   "cell_type": "code",
   "execution_count": 79,
   "metadata": {},
   "outputs": [
    {
     "name": "stdout",
     "output_type": "stream",
     "text": [
      "Data splits saved successfully!\n"
     ]
    }
   ],
   "source": [
    "# Perform new split with a different random seed\n",
    "split_and_save_data(X, y, label_column=\"label\", test_size=0.2, val_size=0.1, random_state=80)"
   ]
  },
  {
   "cell_type": "code",
   "execution_count": 80,
   "metadata": {},
   "outputs": [
    {
     "name": "stdout",
     "output_type": "stream",
     "text": [
      "\u001b[?25l                                                                core\u001b[39m>\u001b[32m⠋\u001b[0m Checking graph\n",
      "  0% Adding...|                          | train.csv |0/3 [00:00<?,     ?file/s]\n",
      "!\u001b[A\n",
      "Collecting files and computing hashes in train.csv    |0.00 [00:00,     ?file/s]\u001b[A\n",
      "                                                                                \u001b[A\n",
      "!\u001b[A\n",
      "  0% Checking cache in '/Users/kalyani/Documents/CMI/Sem 4/AML/Assignment_2/.dvc\u001b[A\n",
      "                                                                                \u001b[A\n",
      "!\u001b[A\n",
      "  0%|          |Checking out /Users/kalyani/Documents/0/1 [00:00<?,    ?files/s]\u001b[A\n",
      "  0% Adding...|                            | val.csv |0/3 [00:00<?,     ?file/s]\u001b[A\n",
      "!\u001b[A\n",
      "Collecting files and computing hashes in val.csv      |0.00 [00:00,     ?file/s]\u001b[A\n",
      "                                                                                \u001b[A\n",
      "!\u001b[A\n",
      "  0% Checking cache in '/Users/kalyani/Documents/CMI/Sem 4/AML/Assignment_2/.dvc\u001b[A\n",
      "                                                                                \u001b[A\n",
      "!\u001b[A\n",
      "  0%|          |Checking out /Users/kalyani/Documents/0/1 [00:00<?,    ?files/s]\u001b[A\n",
      "  0% Adding...|                           | test.csv |0/3 [00:00<?,     ?file/s]\u001b[A\n",
      "!\u001b[A\n",
      "Collecting files and computing hashes in test.csv     |0.00 [00:00,     ?file/s]\u001b[A\n",
      "                                                                                \u001b[A\n",
      "!\u001b[A\n",
      "  0% Checking cache in '/Users/kalyani/Documents/CMI/Sem 4/AML/Assignment_2/.dvc\u001b[A\n",
      "                                                                                \u001b[A\n",
      "!\u001b[A\n",
      "  0%|          |Checking out /Users/kalyani/Documents/0/1 [00:00<?,    ?files/s]\u001b[A\n",
      "100% Adding...|███████████████████████████████████████|3/3 [00:00, 186.31file/s]\u001b[A\n",
      "\n",
      "To track the changes with git, run:\n",
      "\n",
      "\tgit add test.csv.dvc val.csv.dvc train.csv.dvc\n",
      "\n",
      "To enable auto staging, run:\n",
      "\n",
      "\tdvc config core.autostage true\n",
      "\u001b[0m[detached HEAD 005cba6] Version 2 of train/validation/test split\n",
      " 3 files changed, 6 insertions(+), 6 deletions(-)\n",
      "Collecting                                           |5.00 [00:00, 2.01kentry/s]\n",
      "Pushing\n",
      "!\u001b[A\n",
      "  0% Checking cache in '1g-40__aCwQ_38Afqz_sOsD_OpKcvENfr/files/md5'| |0/? [00:0\u001b[A\n",
      "  0% Querying cache in '1g-40__aCwQ_38Afqz_sOsD_OpKcvENfr/files/md5'| |1/256 [00\u001b[A\n",
      "Pushing                                                                         \u001b[A\n",
      "Everything is up to date.\n",
      "\u001b[0m"
     ]
    }
   ],
   "source": [
    "# Track the new version with DVC\n",
    "!dvc add train.csv val.csv test.csv\n",
    "!git add train.csv.dvc val.csv.dvc test.csv.dvc\n",
    "!git commit -m \"Version 2 of train/validation/test split\"\n",
    "!dvc push"
   ]
  },
  {
   "cell_type": "code",
   "execution_count": 81,
   "metadata": {},
   "outputs": [
    {
     "name": "stdout",
     "output_type": "stream",
     "text": [
      "\u001b[33mcommit 005cba67765f3555b67dd3686d103128a312bc06\u001b[m\u001b[33m (\u001b[m\u001b[1;36mHEAD\u001b[m\u001b[33m)\u001b[m\n",
      "Author: Kvgohokar <kalyani.gohokar2406@gmail.com>\n",
      "Date:   Mon Feb 24 14:06:46 2025 +0530\n",
      "\n",
      "    Version 2 of train/validation/test split\n",
      "\n",
      "\u001b[33mcommit e870ff4e5059239f73ce66a3f501dde7fbdc181e\u001b[m\n",
      "Author: Kvgohokar <kalyani.gohokar2406@gmail.com>\n",
      "Date:   Mon Feb 24 14:06:37 2025 +0530\n",
      "\n",
      "    Version 1 of train/validation/test split\n",
      "\n",
      "\u001b[33mcommit 609e54b03924e0df9320287e2d4777ffef14a4ef\u001b[m\n",
      "Author: Kvgohokar <kalyani.gohokar2406@gmail.com>\n",
      "Date:   Mon Feb 24 12:56:55 2025 +0530\n",
      "\n",
      "    Version 2 of train/validation/test split\n",
      "\n",
      "\u001b[33mcommit e41bac6a2fce321e1841f2e83961d06949bd1374\u001b[m\n",
      "Author: Kvgohokar <kalyani.gohokar2406@gmail.com>\n",
      "Date:   Sun Feb 23 22:52:37 2025 +0530\n",
      "\n",
      "    Updated train/validation/test split with different random seed\n",
      "\n",
      "\u001b[33mcommit 41b5893b9360a5a48446e66ea6722bd6fb677234\u001b[m\n",
      "Author: Kvgohokar <kalyani.gohokar2406@gmail.com>\n",
      "Date:   Sun Feb 23 22:50:12 2025 +0530\n",
      "\n",
      "    Updated train/validation/test split with different random seed\n",
      "\n",
      "\u001b[33mcommit 9a629cbfe92938f9019d8c25278c9320445176bf\u001b[m\n",
      "Author: Kvgohokar <kalyani.gohokar2406@gmail.com>\n",
      "Date:   Sun Feb 23 22:05:43 2025 +0530\n",
      "\n",
      "    Added raw data\n"
     ]
    }
   ],
   "source": [
    "!git log "
   ]
  },
  {
   "cell_type": "markdown",
   "metadata": {},
   "source": [
    "##### Checkout Version 1 distribution"
   ]
  },
  {
   "cell_type": "code",
   "execution_count": 82,
   "metadata": {},
   "outputs": [
    {
     "name": "stdout",
     "output_type": "stream",
     "text": [
      "M\t.dvc/config\n",
      "M\t.gitignore\n",
      "Warning: you are leaving 1 commit behind, not connected to\n",
      "any of your branches:\n",
      "\n",
      "  005cba6 Version 2 of train/validation/test split\n",
      "\n",
      "If you want to keep it by creating a new branch, this may be a good time\n",
      "to do so with:\n",
      "\n",
      " git branch <new-branch-name> 005cba6\n",
      "\n",
      "HEAD is now at e870ff4 Version 1 of train/validation/test split\n",
      "Building workspace index                              |5.00 [00:00,  861entry/s]\n",
      "Comparing indexes                                    |6.00 [00:00, 9.66kentry/s]\n",
      "Applying changes                                      |3.00 [00:00, 3.86kfile/s]\n",
      "\u001b[33mM\u001b[0m       test.csv\n",
      "\u001b[33mM\u001b[0m       val.csv\n",
      "\u001b[33mM\u001b[0m       train.csv\n",
      "\u001b[0m"
     ]
    }
   ],
   "source": [
    "!git checkout e870ff4e5059239f73ce66a3f501dde7fbdc181e  # Version 1\n",
    "!dvc checkout"
   ]
  },
  {
   "cell_type": "code",
   "execution_count": 83,
   "metadata": {},
   "outputs": [
    {
     "name": "stdout",
     "output_type": "stream",
     "text": [
      "Version 1: class distribution:\n",
      "Train:\n",
      " label\n",
      "0    3464\n",
      "1     549\n",
      "Name: count, dtype: int64\n",
      "Validation:\n",
      " label\n",
      "0    385\n",
      "1     61\n",
      "Name: count, dtype: int64\n",
      "Test:\n",
      " label\n",
      "0    978\n",
      "1    137\n",
      "Name: count, dtype: int64\n"
     ]
    }
   ],
   "source": [
    "# Load and print class distributions\n",
    "train = pd.read_csv(\"train.csv\")\n",
    "val = pd.read_csv(\"val.csv\")\n",
    "test = pd.read_csv(\"test.csv\")\n",
    "\n",
    "print(\"Version 1: class distribution:\")\n",
    "print(\"Train:\\n\", train[\"label\"].value_counts())\n",
    "print(\"Validation:\\n\", val[\"label\"].value_counts())\n",
    "print(\"Test:\\n\", test[\"label\"].value_counts())"
   ]
  },
  {
   "cell_type": "markdown",
   "metadata": {},
   "source": [
    "##### Checkout Version 2 distribution"
   ]
  },
  {
   "cell_type": "code",
   "execution_count": 84,
   "metadata": {},
   "outputs": [
    {
     "name": "stdout",
     "output_type": "stream",
     "text": [
      "M\t.dvc/config\n",
      "M\t.gitignore\n",
      "Previous HEAD position was e870ff4 Version 1 of train/validation/test split\n",
      "HEAD is now at 005cba6 Version 2 of train/validation/test split\n",
      "Building workspace index                              |5.00 [00:00,  899entry/s]\n",
      "Comparing indexes                                    |6.00 [00:00, 13.7kentry/s]\n",
      "Applying changes                                      |3.00 [00:00, 4.92kfile/s]\n",
      "\u001b[33mM\u001b[0m       train.csv\n",
      "\u001b[33mM\u001b[0m       test.csv\n",
      "\u001b[33mM\u001b[0m       val.csv\n",
      "\u001b[0m"
     ]
    }
   ],
   "source": [
    "!git checkout 005cba67765f3555b67dd3686d103128a312bc06 #Version 2\n",
    "!dvc checkout"
   ]
  },
  {
   "cell_type": "code",
   "execution_count": 85,
   "metadata": {},
   "outputs": [
    {
     "name": "stdout",
     "output_type": "stream",
     "text": [
      "Version 2: class distribution:\n",
      "Train:\n",
      " label\n",
      "0    3487\n",
      "1     526\n",
      "Name: count, dtype: int64\n",
      "Validation:\n",
      " label\n",
      "0    372\n",
      "1     74\n",
      "Name: count, dtype: int64\n",
      "Test:\n",
      " label\n",
      "0    968\n",
      "1    147\n",
      "Name: count, dtype: int64\n"
     ]
    }
   ],
   "source": [
    "# Load and print class distributions\n",
    "train = pd.read_csv(\"train.csv\")\n",
    "val = pd.read_csv(\"val.csv\")\n",
    "test = pd.read_csv(\"test.csv\")\n",
    "\n",
    "print(\"Version 2: class distribution:\")\n",
    "print(\"Train:\\n\", train[\"label\"].value_counts())\n",
    "print(\"Validation:\\n\", val[\"label\"].value_counts())\n",
    "print(\"Test:\\n\", test[\"label\"].value_counts())"
   ]
  }
 ],
 "metadata": {
  "kernelspec": {
   "display_name": "pytorch_env",
   "language": "python",
   "name": "python3"
  },
  "language_info": {
   "codemirror_mode": {
    "name": "ipython",
    "version": 3
   },
   "file_extension": ".py",
   "mimetype": "text/x-python",
   "name": "python",
   "nbconvert_exporter": "python",
   "pygments_lexer": "ipython3",
   "version": "3.9.21"
  }
 },
 "nbformat": 4,
 "nbformat_minor": 2
}
