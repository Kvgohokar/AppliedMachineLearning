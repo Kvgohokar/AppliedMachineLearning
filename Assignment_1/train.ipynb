{
 "cells": [
  {
   "cell_type": "markdown",
   "metadata": {},
   "source": [
    "#### **In `train.ipynb`, write the functions to:**\n",
    "1. Fit a model on train data.  \n",
    "2. Score a model on given data.  \n",
    "3. Evaluate the model predictions.  \n",
    "4. Validate the model:  \n",
    "   - Fit on train.  \n",
    "   - Score on train and validation.  \n",
    "   - Evaluate on train and validation.  \n",
    "   - Fine-tune hyper-parameters using train and validation (if necessary).  \n",
    "5. Score three benchmark models on test data and select the best one.  \n"
   ]
  },
  {
   "cell_type": "code",
   "execution_count": 38,
   "metadata": {},
   "outputs": [],
   "source": [
    "import pandas as pd\n",
    "import numpy as np\n",
    "import matplotlib.pyplot as plt\n",
    "from sklearn.naive_bayes import MultinomialNB\n",
    "from sklearn.ensemble import RandomForestClassifier\n",
    "from sklearn.metrics import accuracy_score, classification_report, roc_auc_score,roc_curve, auc\n",
    "from sklearn.preprocessing import label_binarize\n",
    "from sklearn.model_selection import GridSearchCV\n",
    "from sklearn.linear_model import LogisticRegression\n",
    "from sklearn.svm import SVC\n",
    "from sklearn.ensemble import RandomForestClassifier\n",
    "from sklearn.model_selection import GridSearchCV, RandomizedSearchCV\n",
    "from scipy import sparse\n",
    "import warnings\n",
    "warnings.filterwarnings('ignore')"
   ]
  },
  {
   "cell_type": "code",
   "execution_count": 31,
   "metadata": {},
   "outputs": [],
   "source": [
    "train_data = pd.read_csv(\"./train.csv\")\n",
    "val_data = pd.read_csv(\"./val.csv\")\n",
    "test_data = pd.read_csv(\"./test.csv\")\n",
    "\n",
    "X_train, y_train = train_data.drop(columns=\"label\"), train_data[\"label\"]\n",
    "X_val, y_val = val_data.drop(columns=\"label\"), val_data[\"label\"]\n",
    "X_test, y_test = test_data.drop(columns=\"label\"), test_data[\"label\"]"
   ]
  },
  {
   "cell_type": "code",
   "execution_count": 32,
   "metadata": {},
   "outputs": [],
   "source": [
    "X_train = sparse.csr_matrix(X_train)\n",
    "X_val = sparse.csr_matrix(X_val)\n",
    "X_test = sparse.csr_matrix(X_test)"
   ]
  },
  {
   "cell_type": "markdown",
   "metadata": {},
   "source": [
    "### Logistic Regression"
   ]
  },
  {
   "cell_type": "code",
   "execution_count": 33,
   "metadata": {},
   "outputs": [
    {
     "name": "stdout",
     "output_type": "stream",
     "text": [
      "\n",
      "Best Logistic Regression Params: {'C': 10, 'penalty': 'l2'}\n",
      "Validation Accuracy (Logistic Regression): 0.9821\n",
      "\n",
      "Logistic Regression Classification Report:\n",
      "              precision    recall  f1-score   support\n",
      "\n",
      "           0       0.97      1.00      0.99       966\n",
      "           1       0.97      0.83      0.90       149\n",
      "\n",
      "    accuracy                           0.97      1115\n",
      "   macro avg       0.97      0.91      0.94      1115\n",
      "weighted avg       0.97      0.97      0.97      1115\n",
      "\n",
      "AUC ROC Score (Logistic Regression): 0.9854\n"
     ]
    }
   ],
   "source": [
    "# Logistic Regression\n",
    "lr_model = LogisticRegression()\n",
    "lr_param_grid = {\n",
    "    'C': [0.01, 0.1, 1, 10],\n",
    "    'penalty': ['l1', 'l2']\n",
    "}\n",
    "\n",
    "# Hyperparameter tuning with GridSearchCV   \n",
    "lr_search = GridSearchCV(lr_model, lr_param_grid, cv=5, scoring='accuracy', n_jobs=-1)\n",
    "lr_search.fit(X_train, y_train)\n",
    "best_lr_model = lr_search.best_estimator_\n",
    "print(f\"\\nBest Logistic Regression Params: {lr_search.best_params_}\")\n",
    "print(f\"Validation Accuracy (Logistic Regression): {accuracy_score(y_val, best_lr_model.predict(X_val)):.4f}\")\n",
    "\n",
    "# Classification report \n",
    "y_test_pred_lr = best_lr_model.predict(X_test)\n",
    "print(\"\\nLogistic Regression Classification Report:\")\n",
    "print(classification_report(y_test, y_test_pred_lr))\n",
    "\n",
    "# AUC ROC score \n",
    "y_test_prob_lr = best_lr_model.predict_proba(X_test)[:, 1]\n",
    "roc_auc_lr = roc_auc_score(y_test.values, y_test_prob_lr, multi_class='ovr')\n",
    "print(f\"AUC ROC Score (Logistic Regression): {roc_auc_lr:.4f}\")"
   ]
  },
  {
   "cell_type": "markdown",
   "metadata": {},
   "source": [
    "### Support Vector Classifer (SVC)"
   ]
  },
  {
   "cell_type": "code",
   "execution_count": 34,
   "metadata": {},
   "outputs": [
    {
     "name": "stdout",
     "output_type": "stream",
     "text": [
      "\n",
      "Best SVC Params: {'C': 1, 'gamma': 'scale', 'kernel': 'linear'}\n",
      "Validation Accuracy (SVC): 0.9865\n",
      "\n",
      "SVC Classification Report:\n",
      "              precision    recall  f1-score   support\n",
      "\n",
      "           0       0.98      1.00      0.99       966\n",
      "           1       0.97      0.86      0.91       149\n",
      "\n",
      "    accuracy                           0.98      1115\n",
      "   macro avg       0.97      0.93      0.95      1115\n",
      "weighted avg       0.98      0.98      0.98      1115\n",
      "\n",
      "AUC ROC Score (SVC): 0.9857\n"
     ]
    }
   ],
   "source": [
    "svc_model = SVC(probability=True)\n",
    "svc_param_grid = {\n",
    "    'C': [0.1, 1, 10],\n",
    "    'kernel': ['linear', 'rbf'],\n",
    "    'gamma': ['scale', 'auto']\n",
    "}\n",
    "\n",
    "# Hyperparameter tuning with GridSearchCV\n",
    "svc_search = GridSearchCV(svc_model, svc_param_grid, cv=5, scoring='accuracy', n_jobs=-1)\n",
    "svc_search.fit(X_train, y_train)\n",
    "best_svc_model = svc_search.best_estimator_\n",
    "print(f\"\\nBest SVC Params: {svc_search.best_params_}\")\n",
    "print(f\"Validation Accuracy (SVC): {accuracy_score(y_val, best_svc_model.predict(X_val)):.4f}\")\n",
    "\n",
    "# Classification report\n",
    "y_test_pred_svc = best_svc_model.predict(X_test)\n",
    "print(\"\\nSVC Classification Report:\")\n",
    "print(classification_report(y_test, y_test_pred_svc))\n",
    "\n",
    "# AUC ROC score for SVC\n",
    "y_test_prob_svc = best_svc_model.predict_proba(X_test)[:, 1]\n",
    "roc_auc_svc = roc_auc_score(y_test, y_test_prob_svc)\n",
    "print(f\"AUC ROC Score (SVC): {roc_auc_svc:.4f}\")\n"
   ]
  },
  {
   "cell_type": "markdown",
   "metadata": {},
   "source": [
    "### Random Forest"
   ]
  },
  {
   "cell_type": "code",
   "execution_count": 35,
   "metadata": {},
   "outputs": [
    {
     "name": "stdout",
     "output_type": "stream",
     "text": [
      "\n",
      "Best Random Forest Params: {'max_depth': None, 'min_samples_split': 10, 'n_estimators': 300}\n",
      "Validation Accuracy (Random Forest): 0.9821\n",
      "\n",
      "Random Forest Classification Report:\n",
      "              precision    recall  f1-score   support\n",
      "\n",
      "           0       0.98      1.00      0.99       966\n",
      "           1       1.00      0.85      0.92       149\n",
      "\n",
      "    accuracy                           0.98      1115\n",
      "   macro avg       0.99      0.92      0.95      1115\n",
      "weighted avg       0.98      0.98      0.98      1115\n",
      "\n",
      "AUC ROC Score (Random Forest): 0.9861\n"
     ]
    }
   ],
   "source": [
    "# Random Forest\n",
    "rf_model = RandomForestClassifier(random_state=42)\n",
    "rf_param_grid = {\n",
    "    'n_estimators': [100, 200, 300],\n",
    "    'max_depth': [10, 20, None],\n",
    "    'min_samples_split': [2, 5, 10]\n",
    "}\n",
    "\n",
    "# Hyperparameter tuning with GridSearchCV\n",
    "rf_search = GridSearchCV(rf_model, rf_param_grid, cv=5, scoring='accuracy', n_jobs=-1)\n",
    "rf_search.fit(X_train, y_train)\n",
    "best_rf_model = rf_search.best_estimator_\n",
    "print(f\"\\nBest Random Forest Params: {rf_search.best_params_}\")\n",
    "print(f\"Validation Accuracy (Random Forest): {accuracy_score(y_val, best_rf_model.predict(X_val)):.4f}\")\n",
    "\n",
    "# Classification report\n",
    "y_test_pred_rf = best_rf_model.predict(X_test)\n",
    "print(\"\\nRandom Forest Classification Report:\")\n",
    "print(classification_report(y_test, y_test_pred_rf))\n",
    "\n",
    "# AUC ROC score\n",
    "y_test_prob_rf = best_rf_model.predict_proba(X_test)[:, 1]\n",
    "roc_auc_rf = roc_auc_score(y_test, y_test_prob_rf, multi_class='ovr')\n",
    "print(f\"AUC ROC Score (Random Forest): {roc_auc_rf:.4f}\")\n"
   ]
  },
  {
   "cell_type": "markdown",
   "metadata": {},
   "source": [
    "### Naive Bayes"
   ]
  },
  {
   "cell_type": "code",
   "execution_count": 36,
   "metadata": {},
   "outputs": [
    {
     "name": "stdout",
     "output_type": "stream",
     "text": [
      "\n",
      "Best Naive Bayes Params: {'alpha': 0.5}\n",
      "Validation Accuracy (Naive Bayes): 0.9753\n",
      "\n",
      "Naive Bayes Classification Report:\n",
      "              precision    recall  f1-score   support\n",
      "\n",
      "           0       0.97      1.00      0.98       966\n",
      "           1       0.97      0.81      0.88       149\n",
      "\n",
      "    accuracy                           0.97      1115\n",
      "   macro avg       0.97      0.90      0.93      1115\n",
      "weighted avg       0.97      0.97      0.97      1115\n",
      "\n",
      "AUC ROC Score (Naive Bayes): 0.9830\n"
     ]
    }
   ],
   "source": [
    "# Naive Bayes\n",
    "nb_model = MultinomialNB()\n",
    "nb_param_grid = {'alpha': [0.1, 0.5, 1.0]}\n",
    "\n",
    "# Hyperparameter tuning with GridSearchCV\n",
    "nb_search = GridSearchCV(nb_model, nb_param_grid, cv=5, scoring='accuracy', n_jobs=-1)\n",
    "\n",
    "nb_search.fit(X_train, y_train)\n",
    "best_nb_model = nb_search.best_estimator_\n",
    "print(f\"\\nBest Naive Bayes Params: {nb_search.best_params_}\")\n",
    "print(f\"Validation Accuracy (Naive Bayes): {accuracy_score(y_val, best_nb_model.predict(X_val)):.4f}\")\n",
    "\n",
    "# Classification report\n",
    "y_test_pred_nb = best_nb_model.predict(X_test)\n",
    "print(\"\\nNaive Bayes Classification Report:\")\n",
    "print(classification_report(y_test, y_test_pred_nb))\n",
    "\n",
    "# AUC ROC score\n",
    "y_test_prob_nb = best_nb_model.predict_proba(X_test)[:, 1] \n",
    "roc_auc_nb = roc_auc_score(y_test, y_test_prob_nb)\n",
    "print(f\"AUC ROC Score (Naive Bayes): {roc_auc_nb:.4f}\")"
   ]
  },
  {
   "cell_type": "markdown",
   "metadata": {},
   "source": [
    "### Comparing models"
   ]
  },
  {
   "cell_type": "code",
   "execution_count": 41,
   "metadata": {},
   "outputs": [
    {
     "data": {
      "image/png": "[encoded data removed]",
      "text/plain": [
       "<Figure size 800x600 with 1 Axes>"
      ]
     },
     "metadata": {},
     "output_type": "display_data"
    }
   ],
   "source": [
    "model_auc_scores = {}\n",
    "\n",
    "models = {\n",
    "    \"Naive Bayes\": best_nb_model,\n",
    "    \"Random Forest\": best_rf_model,\n",
    "    \"Logistic Regression\": best_lr_model,\n",
    "    \"SVC\": best_svc_model\n",
    "}\n",
    "\n",
    "plt.figure(figsize=(8, 6))\n",
    "\n",
    "for model_name, model in models.items():\n",
    "    y_test_prob = model.predict_proba(X_test)[:, 1]\n",
    "    fpr, tpr, _ = roc_curve(y_test, y_test_prob)\n",
    "    roc_auc = auc(fpr, tpr)\n",
    "    model_auc_scores[model_name] = roc_auc\n",
    "    plt.plot(fpr, tpr, label=f'{model_name} (AUC = {roc_auc:.4f})')\n",
    "\n",
    "plt.plot([0, 1], [0, 1], color='gray', linestyle='--', lw=2)\n",
    "\n",
    "plt.title('ROC Curve Comparison')\n",
    "plt.xlabel('False Positive Rate')\n",
    "plt.ylabel('True Positive Rate')\n",
    "plt.legend(loc='lower right')\n",
    "plt.grid(True)\n",
    "\n",
    "plt.show()"
   ]
  },
  {
   "cell_type": "code",
   "execution_count": 40,
   "metadata": {},
   "outputs": [
    {
     "name": "stdout",
     "output_type": "stream",
     "text": [
      "\n",
      "Ranked Models by AUC ROC Score:\n",
      "1. Random Forest: 0.9861\n",
      "2. SVC: 0.9857\n",
      "3. Logistic Regression: 0.9854\n",
      "4. Naive Bayes: 0.9830\n"
     ]
    }
   ],
   "source": [
    "sorted_models = sorted(model_auc_scores.items(), key=lambda x: x[1], reverse=True)\n",
    "\n",
    "print(\"\\nRanked Models by AUC ROC Score:\")\n",
    "for rank, (model_name, auc_score) in enumerate(sorted_models, start=1):\n",
    "    print(f\"{rank}. {model_name}: {auc_score:.4f}\")"
   ]
  }
 ],
 "metadata": {
  "kernelspec": {
   "display_name": "pytorch_env",
   "language": "python",
   "name": "python3"
  },
  "language_info": {
   "codemirror_mode": {
    "name": "ipython",
    "version": 3
   },
   "file_extension": ".py",
   "mimetype": "text/x-python",
   "name": "python",
   "nbconvert_exporter": "python",
   "pygments_lexer": "ipython3",
   "version": "3.9.21"
  }
 },
 "nbformat": 4,
 "nbformat_minor": 2
}
